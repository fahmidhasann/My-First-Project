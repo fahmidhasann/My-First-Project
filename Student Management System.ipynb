{
  "nbformat": 4,
  "nbformat_minor": 0,
  "metadata": {
    "colab": {
      "provenance": []
    },
    "kernelspec": {
      "name": "python3",
      "display_name": "Python 3"
    },
    "language_info": {
      "name": "python"
    }
  },
  "cells": [
    {
      "cell_type": "code",
      "source": [
        "#a basic project.\n",
        "\n",
        "#creating a class\n",
        "class StudentManagementSystem:\n",
        "\n",
        "    #the constructor\n",
        "    def __init__ (self):\n",
        "        self.students={}\n",
        "\n",
        "    #defining a method to record students info\n",
        "    def add_student(self,id,name,age):\n",
        "        if id not in self.students:\n",
        "            self.students[id]={\n",
        "                \"name\":name,\n",
        "                \"age\":age,\n",
        "                \"grade\":{}\n",
        "            }\n",
        "\n",
        "    #method to add the grade of a student\n",
        "    def add_grade(self,id,sub,mark):\n",
        "        if id in self.students:\n",
        "            self.students[id][\"grade\"][sub]=mark\n",
        "        else:\n",
        "            print(\"Student not found\")\n",
        "\n",
        "    #method to get the average grade\n",
        "    def average_grade(self,id):\n",
        "        if id in self.students:\n",
        "            return f\"your average grade {sum(self.students[id]['grade'].values())/len(list(self.students[id]['grade'].values()))}\"\n",
        "        else:\n",
        "            print(\"student not found\")\n",
        "\n",
        "\n",
        "    #method to get info of a specific id\n",
        "    def get_info(self,id):\n",
        "        if id in self.students:\n",
        "            return {\n",
        "                \"name\":self.students[id][\"name\"],\n",
        "                \"age\":self.students[id][\"age\"],\n",
        "                \"grade\":self.students[id][\"grade\"]\n",
        "            }\n",
        "        else:\n",
        "            print(\"student not found\")\n",
        "\n",
        "    #method to get all the recorded ids\n",
        "    def get_all_id(self):\n",
        "        return list(self.students.keys())\n",
        "\n",
        "\n",
        "    #method to get all student's info\n",
        "    def get_all_info(self):\n",
        "      return dict(self.students)"
      ],
      "metadata": {
        "id": "Drylf8fV7w0Z"
      },
      "execution_count": 1,
      "outputs": []
    },
    {
      "cell_type": "code",
      "source": [
        "#creating an instance of the class\n",
        "sms = StudentManagementSystem()\n",
        "\n",
        "#recording the info of students\n",
        "sms.add_student(2102010,\"Taohid\",22)\n",
        "sms.add_student(2102011,\"Rounal\",23)\n",
        "sms.add_student(2102012,\"Sohag\",22)\n",
        "sms.add_student(2102013,\"Sadia\",21)\n",
        "#......."
      ],
      "metadata": {
        "id": "MSeKpoBj8OIN"
      },
      "execution_count": 2,
      "outputs": []
    },
    {
      "cell_type": "code",
      "source": [
        "#adding grades\n",
        "sms.add_grade(2102010,\"Math\",90)\n",
        "sms.add_grade(2102010,\"English\",88)\n",
        "sms.add_grade(2102010,\"Bangla\",87)\n",
        "#......."
      ],
      "metadata": {
        "id": "851Np7U1p185"
      },
      "execution_count": 3,
      "outputs": []
    },
    {
      "cell_type": "code",
      "source": [
        "sms.get_info(2102010)"
      ],
      "metadata": {
        "colab": {
          "base_uri": "https://localhost:8080/"
        },
        "id": "MaxqbAuSqn3S",
        "outputId": "92cc3e83-4aff-4e28-fea7-1f42305647ff"
      },
      "execution_count": 4,
      "outputs": [
        {
          "output_type": "execute_result",
          "data": {
            "text/plain": [
              "{'name': 'Taohid',\n",
              " 'age': 22,\n",
              " 'grade': {'Math': 90, 'English': 88, 'Bangla': 87}}"
            ]
          },
          "metadata": {},
          "execution_count": 4
        }
      ]
    },
    {
      "cell_type": "code",
      "source": [
        "sms.average_grade(2102010)"
      ],
      "metadata": {
        "colab": {
          "base_uri": "https://localhost:8080/",
          "height": 56
        },
        "id": "gvvCIh-qrXtF",
        "outputId": "c348532f-f906-4c93-f957-50decf4f1f91"
      },
      "execution_count": 5,
      "outputs": [
        {
          "output_type": "execute_result",
          "data": {
            "text/plain": [
              "'your average grade 88.33333333333333'"
            ],
            "application/vnd.google.colaboratory.intrinsic+json": {
              "type": "string"
            }
          },
          "metadata": {},
          "execution_count": 5
        }
      ]
    },
    {
      "cell_type": "code",
      "source": [
        "sms.get_all_id()"
      ],
      "metadata": {
        "colab": {
          "base_uri": "https://localhost:8080/"
        },
        "id": "oLwz3NCgq7n3",
        "outputId": "ac660120-e5c4-4d80-f49d-775371b87738"
      },
      "execution_count": 6,
      "outputs": [
        {
          "output_type": "execute_result",
          "data": {
            "text/plain": [
              "[2102010, 2102011, 2102012, 2102013]"
            ]
          },
          "metadata": {},
          "execution_count": 6
        }
      ]
    },
    {
      "cell_type": "code",
      "source": [
        "sms.get_all_info()"
      ],
      "metadata": {
        "colab": {
          "base_uri": "https://localhost:8080/"
        },
        "id": "Uo88twMjqv6E",
        "outputId": "9e81cde8-b7df-4e90-bb0e-0f8c7b45a0c0"
      },
      "execution_count": 7,
      "outputs": [
        {
          "output_type": "execute_result",
          "data": {
            "text/plain": [
              "{2102010: {'name': 'Taohid',\n",
              "  'age': 22,\n",
              "  'grade': {'Math': 90, 'English': 88, 'Bangla': 87}},\n",
              " 2102011: {'name': 'Rounal', 'age': 23, 'grade': {}},\n",
              " 2102012: {'name': 'Sohag', 'age': 22, 'grade': {}},\n",
              " 2102013: {'name': 'Sadia', 'age': 21, 'grade': {}}}"
            ]
          },
          "metadata": {},
          "execution_count": 7
        }
      ]
    },
    {
      "cell_type": "code",
      "source": [
        "#The arguments of this object will not be stored cause id: 2102010 was already recorded.\n",
        "sms.add_student(2102010,\"Hasan\",22)"
      ],
      "metadata": {
        "id": "KPjDI4k8mvkZ"
      },
      "execution_count": 8,
      "outputs": []
    },
    {
      "cell_type": "code",
      "source": [
        "#thus it will show the Previously Recorded Item\n",
        "sms.get_info(2102010)"
      ],
      "metadata": {
        "colab": {
          "base_uri": "https://localhost:8080/"
        },
        "id": "ZqQxH-PLqlHZ",
        "outputId": "90b75b66-fe6c-4660-e653-c7b9e8a85011"
      },
      "execution_count": 9,
      "outputs": [
        {
          "output_type": "execute_result",
          "data": {
            "text/plain": [
              "{'name': 'Taohid',\n",
              " 'age': 22,\n",
              " 'grade': {'Math': 90, 'English': 88, 'Bangla': 87}}"
            ]
          },
          "metadata": {},
          "execution_count": 9
        }
      ]
    },
    {
      "cell_type": "code",
      "source": [
        "#this id's info wasn't recorded\n",
        "sms.get_info(2102019)"
      ],
      "metadata": {
        "colab": {
          "base_uri": "https://localhost:8080/"
        },
        "id": "bFudp4spqpGk",
        "outputId": "3f0dac77-d0a5-482d-d15c-d1b3330ebb34"
      },
      "execution_count": 10,
      "outputs": [
        {
          "output_type": "stream",
          "name": "stdout",
          "text": [
            "student not found\n"
          ]
        }
      ]
    }
  ]
}