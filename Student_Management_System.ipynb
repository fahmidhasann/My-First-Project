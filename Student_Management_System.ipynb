{
 "cells": [
  {
   "cell_type": "code",
   "execution_count": 29,
   "metadata": {
    "id": "6ujnzMPeFHts"
   },
   "outputs": [],
   "source": [
    "#a basic project.\n",
    "\n",
    "#creating a class\n",
    "class StudentManagementSystem:\n",
    "\n",
    "    #the constructor\n",
    "    def __init__ (self):\n",
    "        self.students={}\n",
    "\n",
    "    #defining a method to record students info\n",
    "    def add_student(self,id,name,age):\n",
    "        if id not in self.students:\n",
    "            self.students[id]={\n",
    "                \"name\":name,\n",
    "                \"age\":age,\n",
    "                \"grade\":[]\n",
    "            }\n",
    "\n",
    "    #method to add the grade of a student\n",
    "    def add_grade(self,id,grade):\n",
    "        if id in self.students:\n",
    "            self.students[id][\"grade\"].append(grade)\n",
    "        else:\n",
    "            print(\"Student not found\")\n",
    "\n",
    "    #method to get the average grade\n",
    "    def average_grade(self,id):\n",
    "        if id in self.students:\n",
    "            return f\"your average grade {sum(self.students[id]['grade'])/len(self.students[id]['grade'])}\"\n",
    "        else:\n",
    "            print(\"student not found\")\n",
    "\n",
    "    #method to get info of a specific id\n",
    "    def get_info(self,id):\n",
    "        if id in self.students:\n",
    "            return {\n",
    "                \"name\":self.students[id][\"name\"],\n",
    "                \"age\":self.students[id][\"age\"],\n",
    "                \"grade\":self.students[id][\"grade\"]\n",
    "            }\n",
    "        else:\n",
    "            print(\"student not found\")\n",
    "\n",
    "    #method to get all the recorded ids\n",
    "    def get_all_id(self):\n",
    "        return list(self.students.keys())"
   ]
  },
  {
   "cell_type": "code",
   "execution_count": 31,
   "metadata": {
    "id": "5HYJgto4gnMv"
   },
   "outputs": [],
   "source": [
    "#creating an instance of the class\n",
    "sms = StudentManagementSystem()\n",
    "\n",
    "#recording the info of students\n",
    "sms.add_student(2102010,\"Taohid\",22)\n",
    "sms.add_student(2102011,\"Rounal\",23)\n",
    "sms.add_student(2102012,\"Sohag\",22)\n",
    "sms.add_student(2102013,\"Sadia\",21)"
   ]
  },
  {
   "cell_type": "code",
   "execution_count": 8,
   "metadata": {
    "id": "w9psgNGli2mD"
   },
   "outputs": [],
   "source": [
    "#adding grades of a specific id\n",
    "sms.add_grade(2102010,90)\n",
    "sms.add_grade(2102010,88)\n",
    "sms.add_grade(2102010,87)"
   ]
  },
  {
   "cell_type": "code",
   "execution_count": 10,
   "metadata": {
    "colab": {
     "base_uri": "https://localhost:8080/",
     "height": 56
    },
    "id": "xCxhGnU_jDmP",
    "outputId": "7b72f503-606c-49d6-b448-3c24ca20b92a"
   },
   "outputs": [
    {
     "data": {
      "text/plain": [
       "'your average grade 88.33333333333333'"
      ]
     },
     "execution_count": 10,
     "metadata": {},
     "output_type": "execute_result"
    }
   ],
   "source": [
    "sms.average_grade(2102010)"
   ]
  },
  {
   "cell_type": "code",
   "execution_count": 33,
   "metadata": {},
   "outputs": [
    {
     "data": {
      "text/plain": [
       "{'name': 'Sohag', 'age': 22, 'grade': []}"
      ]
     },
     "execution_count": 33,
     "metadata": {},
     "output_type": "execute_result"
    }
   ],
   "source": [
    "sms.get_info(2102012)"
   ]
  },
  {
   "cell_type": "code",
   "execution_count": 35,
   "metadata": {},
   "outputs": [
    {
     "data": {
      "text/plain": [
       "[2102010, 2102011, 2102012, 2102013]"
      ]
     },
     "execution_count": 35,
     "metadata": {},
     "output_type": "execute_result"
    }
   ],
   "source": [
    "sms.get_all_id()"
   ]
  },
  {
   "cell_type": "code",
   "execution_count": 17,
   "metadata": {},
   "outputs": [],
   "source": [
    "#The arguments/values of this object will not be stored cause id: 2102010 was already recorded.\n",
    "sms.add_student(2102010,\"Hasan\",88)"
   ]
  },
  {
   "cell_type": "code",
   "execution_count": 15,
   "metadata": {
    "colab": {
     "base_uri": "https://localhost:8080/"
    },
    "id": "_M0GlxhSjNbB",
    "outputId": "23c4a0d5-e97d-44ed-886e-fd25c1476f75"
   },
   "outputs": [
    {
     "data": {
      "text/plain": [
       "{'name': 'Taohid', 'age': 22, 'grade': []}"
      ]
     },
     "execution_count": 15,
     "metadata": {},
     "output_type": "execute_result"
    }
   ],
   "source": [
    "#nthus it will show the Previously Recorded Item\n",
    "sms.get_info(2102010)"
   ]
  },
  {
   "cell_type": "code",
   "execution_count": 25,
   "metadata": {},
   "outputs": [
    {
     "name": "stdout",
     "output_type": "stream",
     "text": [
      "student not found\n"
     ]
    }
   ],
   "source": [
    "#this id's info wasn't recorded\n",
    "sms.get_info(2102019)"
   ]
  }
 ],
 "metadata": {
  "colab": {
   "provenance": []
  },
  "kernelspec": {
   "display_name": "Python 3 (ipykernel)",
   "language": "python",
   "name": "python3"
  },
  "language_info": {
   "codemirror_mode": {
    "name": "ipython",
    "version": 3
   },
   "file_extension": ".py",
   "mimetype": "text/x-python",
   "name": "python",
   "nbconvert_exporter": "python",
   "pygments_lexer": "ipython3",
   "version": "3.12.4"
  }
 },
 "nbformat": 4,
 "nbformat_minor": 4
}
